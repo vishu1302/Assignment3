{
 "cells": [
  {
   "cell_type": "code",
   "execution_count": 25,
   "id": "b8196e41",
   "metadata": {},
   "outputs": [
    {
     "name": "stdout",
     "output_type": "stream",
     "text": [
      "5 6\n",
      "[11  0] [ 0 11]\n"
     ]
    },
    {
     "data": {
      "image/png": "[encoded data removed]",
      "text/plain": [
       "<Figure size 432x288 with 1 Axes>"
      ]
     },
     "metadata": {
      "needs_background": "light"
     },
     "output_type": "display_data"
    }
   ],
   "source": [
    "import numpy as np\n",
    "import matplotlib.pyplot as plt\n",
    "\n",
    "\n",
    "\n",
    "#Line passing throug [5,6]\n",
    "\n",
    "\n",
    "\n",
    "print(interceptX,interceptY)\n",
    "#As intercepts are both equal in magnitude and same sign\n",
    "#intercept a=b\n",
    "def genXandYintercepts(p):\n",
    "    #x+y=a\n",
    "    a=p[0]+p[1]\n",
    "     \n",
    "    return a\n",
    "    \n",
    "    \n",
    "P = np.array([5,6])    \n",
    "a = genXandYintercepts(P)  \n",
    "# Points through which line is passing  \n",
    "A= np.array([a,0]) #intercept_X\n",
    "B =np.array([0,a])  #intercept_Y\n",
    "\n",
    "print(A,B)\n",
    "    \n",
    "#Generating line points\n",
    "def line_gen(A,B):\n",
    "  len =10\n",
    "  dim = A.shape[0]\n",
    "  x_AB = np.zeros((dim,len))\n",
    "  lam_1 = np.linspace(0,12,len)\n",
    "  for i in range(len):\n",
    "    temp1 = A + lam_1[i]*(B-A)\n",
    "    x_AB[:,i]= temp1.T\n",
    "  return x_AB\n",
    "\n",
    "\n",
    "# Storing line points\n",
    "arr = line_gen(A,B)\n",
    "plt.plot(arr[0,:],arr[1,:])\n",
    "\n",
    "# Plotting line\n",
    "plt.plot(A[0],A[1],'o')\n",
    "plt.text(A[0],A[1]+0.1,'A(11,0)')\n",
    "\n",
    "plt.plot(B[0],B[1],'ro')\n",
    "plt.text(B[0]+0.1,B[1],'B(0,11)')\n",
    "plt.xlim([-10,20])\n",
    "plt.ylim([-10,20])\n",
    "\n",
    "plt.xlabel('$x$')\n",
    "plt.ylabel('$y$')\n",
    "\n",
    "plt.grid() \n",
    "plt.show()\n",
    "    \n"
   ]
  },
  {
   "cell_type": "code",
   "execution_count": null,
   "id": "6a11d03b",
   "metadata": {},
   "outputs": [],
   "source": []
  }
 ],
 "metadata": {
  "kernelspec": {
   "display_name": "Python 3",
   "language": "python",
   "name": "python3"
  },
  "language_info": {
   "codemirror_mode": {
    "name": "ipython",
    "version": 3
   },
   "file_extension": ".py",
   "mimetype": "text/x-python",
   "name": "python",
   "nbconvert_exporter": "python",
   "pygments_lexer": "ipython3",
   "version": "3.8.8"
  }
 },
 "nbformat": 4,
 "nbformat_minor": 5
}
